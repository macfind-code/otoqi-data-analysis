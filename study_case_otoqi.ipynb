{
 "cells": [
  {
   "cell_type": "markdown",
   "id": "c337daff",
   "metadata": {},
   "source": [
    "# Otoqi drivers data analysis"
   ]
  },
  {
   "cell_type": "markdown",
   "id": "206e74c4",
   "metadata": {},
   "source": [
    "## Step 1: import libraries"
   ]
  },
  {
   "cell_type": "code",
   "execution_count": 135,
   "id": "900496fe",
   "metadata": {},
   "outputs": [],
   "source": [
    "# import libraries\n",
    "\n",
    "import numpy\n",
    "import pandas\n",
    "import matplotlib.pyplot as plt\n",
    "import seaborn as sns"
   ]
  },
  {
   "cell_type": "markdown",
   "id": "7e2ce7e0",
   "metadata": {},
   "source": [
    "## Step 2: data loading"
   ]
  },
  {
   "cell_type": "code",
   "execution_count": 3,
   "id": "cf5412e8",
   "metadata": {},
   "outputs": [
    {
     "data": {
      "text/html": [
       "<div>\n",
       "<style scoped>\n",
       "    .dataframe tbody tr th:only-of-type {\n",
       "        vertical-align: middle;\n",
       "    }\n",
       "\n",
       "    .dataframe tbody tr th {\n",
       "        vertical-align: top;\n",
       "    }\n",
       "\n",
       "    .dataframe thead th {\n",
       "        text-align: right;\n",
       "    }\n",
       "</style>\n",
       "<table border=\"1\" class=\"dataframe\">\n",
       "  <thead>\n",
       "    <tr style=\"text-align: right;\">\n",
       "      <th></th>\n",
       "      <th>Date</th>\n",
       "      <th>Client</th>\n",
       "      <th>Mission Reference</th>\n",
       "      <th>Prix Client</th>\n",
       "      <th>Prix Driver</th>\n",
       "      <th>Adresse de départ</th>\n",
       "      <th>Adresse d'arrivée</th>\n",
       "      <th>Retard driver</th>\n",
       "      <th>Driver login</th>\n",
       "      <th>mission Status</th>\n",
       "      <th>Distance total</th>\n",
       "      <th>Durée de la mission</th>\n",
       "      <th>Rating Client</th>\n",
       "    </tr>\n",
       "  </thead>\n",
       "  <tbody>\n",
       "    <tr>\n",
       "      <th>0</th>\n",
       "      <td>2023-04-17</td>\n",
       "      <td>Company A</td>\n",
       "      <td>EUz6kKq</td>\n",
       "      <td>106.0</td>\n",
       "      <td>45.00</td>\n",
       "      <td>1 rue de l'ile de France 94460 Valenton</td>\n",
       "      <td>2 Allée des Aulnes, Trappes, France</td>\n",
       "      <td>-187</td>\n",
       "      <td>test_3@test.com</td>\n",
       "      <td>FINISHED</td>\n",
       "      <td>86</td>\n",
       "      <td>57</td>\n",
       "      <td>NaN</td>\n",
       "    </tr>\n",
       "    <tr>\n",
       "      <th>1</th>\n",
       "      <td>2023-04-17</td>\n",
       "      <td>Company B</td>\n",
       "      <td>GHle2KU</td>\n",
       "      <td>30.0</td>\n",
       "      <td>23.00</td>\n",
       "      <td>120 Avenue Saint-Exupéry, Antony, France</td>\n",
       "      <td>74, route de la Reine 92100 Boulogne</td>\n",
       "      <td>-122</td>\n",
       "      <td>test_4@test.com</td>\n",
       "      <td>FINISHED</td>\n",
       "      <td>36</td>\n",
       "      <td>80</td>\n",
       "      <td>NaN</td>\n",
       "    </tr>\n",
       "    <tr>\n",
       "      <th>2</th>\n",
       "      <td>2023-04-17</td>\n",
       "      <td>Company C</td>\n",
       "      <td>668k6ee</td>\n",
       "      <td>22.5</td>\n",
       "      <td>15.00</td>\n",
       "      <td>13 Rue du Commerce, Paris, France</td>\n",
       "      <td>93 Avenue Emile Zola, 75015 Paris, France</td>\n",
       "      <td>-93</td>\n",
       "      <td>test_1@test.com</td>\n",
       "      <td>FINISHED</td>\n",
       "      <td>2</td>\n",
       "      <td>21</td>\n",
       "      <td>NaN</td>\n",
       "    </tr>\n",
       "    <tr>\n",
       "      <th>3</th>\n",
       "      <td>2023-04-17</td>\n",
       "      <td>Company C</td>\n",
       "      <td>Z8lxGlD</td>\n",
       "      <td>22.5</td>\n",
       "      <td>20.00</td>\n",
       "      <td>39 Avenue Louis Breguet, 78140 Vélizy-Villacou...</td>\n",
       "      <td>22 Rue Thuret, L'Hay-les-Roses, France</td>\n",
       "      <td>-154</td>\n",
       "      <td>test_2@test.com</td>\n",
       "      <td>FINISHED</td>\n",
       "      <td>30</td>\n",
       "      <td>58</td>\n",
       "      <td>4.0</td>\n",
       "    </tr>\n",
       "    <tr>\n",
       "      <th>4</th>\n",
       "      <td>2023-04-17</td>\n",
       "      <td>Company D</td>\n",
       "      <td>IMkgFPA</td>\n",
       "      <td>551.0</td>\n",
       "      <td>477.04</td>\n",
       "      <td>15 Rue d'Ebersheim, 67600 Sélestat, France</td>\n",
       "      <td>3 Imp. des Vignes, 49360 Toutlemonde, France</td>\n",
       "      <td>-335</td>\n",
       "      <td>test_5@test.com</td>\n",
       "      <td>FINISHED</td>\n",
       "      <td>1,558</td>\n",
       "      <td>573</td>\n",
       "      <td>2.0</td>\n",
       "    </tr>\n",
       "    <tr>\n",
       "      <th>...</th>\n",
       "      <td>...</td>\n",
       "      <td>...</td>\n",
       "      <td>...</td>\n",
       "      <td>...</td>\n",
       "      <td>...</td>\n",
       "      <td>...</td>\n",
       "      <td>...</td>\n",
       "      <td>...</td>\n",
       "      <td>...</td>\n",
       "      <td>...</td>\n",
       "      <td>...</td>\n",
       "      <td>...</td>\n",
       "      <td>...</td>\n",
       "    </tr>\n",
       "    <tr>\n",
       "      <th>445</th>\n",
       "      <td>2023-05-16</td>\n",
       "      <td>Company F</td>\n",
       "      <td>niAR0F0</td>\n",
       "      <td>30.0</td>\n",
       "      <td>21.00</td>\n",
       "      <td>42 Rue de l'Avenir, Clichy, France</td>\n",
       "      <td>74, route de la Reine 92100 Boulogne</td>\n",
       "      <td>-126</td>\n",
       "      <td>test_2@test.com</td>\n",
       "      <td>FINISHED</td>\n",
       "      <td>22</td>\n",
       "      <td>61</td>\n",
       "      <td>NaN</td>\n",
       "    </tr>\n",
       "    <tr>\n",
       "      <th>446</th>\n",
       "      <td>2023-05-16</td>\n",
       "      <td>Company F</td>\n",
       "      <td>Ul7E00Q</td>\n",
       "      <td>25.0</td>\n",
       "      <td>20.00</td>\n",
       "      <td>11 Rue du Commandeur, Paris, France</td>\n",
       "      <td>11 Boulevard du Colonel Fabien, 94200 Ivry-sur...</td>\n",
       "      <td>-113</td>\n",
       "      <td>test_1@test.com</td>\n",
       "      <td>FINISHED</td>\n",
       "      <td>18</td>\n",
       "      <td>42</td>\n",
       "      <td>NaN</td>\n",
       "    </tr>\n",
       "    <tr>\n",
       "      <th>447</th>\n",
       "      <td>2023-05-16</td>\n",
       "      <td>Company F</td>\n",
       "      <td>rvTCbrs</td>\n",
       "      <td>25.0</td>\n",
       "      <td>20.00</td>\n",
       "      <td>11 Boulevard du Colonel Fabien, 94200 Ivry-sur...</td>\n",
       "      <td>11 Rue du Commandeur, Paris, France</td>\n",
       "      <td>-127</td>\n",
       "      <td>test_3@test.com</td>\n",
       "      <td>FINISHED</td>\n",
       "      <td>22</td>\n",
       "      <td>62</td>\n",
       "      <td>NaN</td>\n",
       "    </tr>\n",
       "    <tr>\n",
       "      <th>448</th>\n",
       "      <td>2023-05-16</td>\n",
       "      <td>Company G</td>\n",
       "      <td>xezNHQ7</td>\n",
       "      <td>38.0</td>\n",
       "      <td>23.00</td>\n",
       "      <td>86 Avenue du 18 Juin 1940, Rueil-Malmaison, Fr...</td>\n",
       "      <td>11 Boulevard du Colonel Fabien, 94200 Ivry-sur...</td>\n",
       "      <td>-53</td>\n",
       "      <td>test_4@test.com</td>\n",
       "      <td>FINISHED</td>\n",
       "      <td>48</td>\n",
       "      <td>74</td>\n",
       "      <td>NaN</td>\n",
       "    </tr>\n",
       "    <tr>\n",
       "      <th>449</th>\n",
       "      <td>2023-05-16</td>\n",
       "      <td>Company</td>\n",
       "      <td>JUi2GmH</td>\n",
       "      <td>75.0</td>\n",
       "      <td>50.00</td>\n",
       "      <td>16 Allée Maximilien de Robespierre, Martigues,...</td>\n",
       "      <td>SOMEDAT STVA, QUARTIER DU PARC DE L'ARTILLERIE...</td>\n",
       "      <td>-183</td>\n",
       "      <td>test_2@test.com</td>\n",
       "      <td>FINISHED</td>\n",
       "      <td>58</td>\n",
       "      <td>85</td>\n",
       "      <td>NaN</td>\n",
       "    </tr>\n",
       "  </tbody>\n",
       "</table>\n",
       "<p>450 rows × 13 columns</p>\n",
       "</div>"
      ],
      "text/plain": [
       "           Date     Client Mission Reference  Prix Client  Prix Driver  \\\n",
       "0    2023-04-17  Company A           EUz6kKq        106.0        45.00   \n",
       "1    2023-04-17  Company B           GHle2KU         30.0        23.00   \n",
       "2    2023-04-17  Company C           668k6ee         22.5        15.00   \n",
       "3    2023-04-17  Company C           Z8lxGlD         22.5        20.00   \n",
       "4    2023-04-17  Company D           IMkgFPA        551.0       477.04   \n",
       "..          ...        ...               ...          ...          ...   \n",
       "445  2023-05-16  Company F           niAR0F0         30.0        21.00   \n",
       "446  2023-05-16  Company F           Ul7E00Q         25.0        20.00   \n",
       "447  2023-05-16  Company F           rvTCbrs         25.0        20.00   \n",
       "448  2023-05-16  Company G           xezNHQ7         38.0        23.00   \n",
       "449  2023-05-16    Company           JUi2GmH         75.0        50.00   \n",
       "\n",
       "                                     Adresse de départ  \\\n",
       "0              1 rue de l'ile de France 94460 Valenton   \n",
       "1             120 Avenue Saint-Exupéry, Antony, France   \n",
       "2                    13 Rue du Commerce, Paris, France   \n",
       "3    39 Avenue Louis Breguet, 78140 Vélizy-Villacou...   \n",
       "4           15 Rue d'Ebersheim, 67600 Sélestat, France   \n",
       "..                                                 ...   \n",
       "445                 42 Rue de l'Avenir, Clichy, France   \n",
       "446                11 Rue du Commandeur, Paris, France   \n",
       "447  11 Boulevard du Colonel Fabien, 94200 Ivry-sur...   \n",
       "448  86 Avenue du 18 Juin 1940, Rueil-Malmaison, Fr...   \n",
       "449  16 Allée Maximilien de Robespierre, Martigues,...   \n",
       "\n",
       "                                     Adresse d'arrivée Retard driver  \\\n",
       "0                  2 Allée des Aulnes, Trappes, France          -187   \n",
       "1                 74, route de la Reine 92100 Boulogne          -122   \n",
       "2            93 Avenue Emile Zola, 75015 Paris, France           -93   \n",
       "3               22 Rue Thuret, L'Hay-les-Roses, France          -154   \n",
       "4         3 Imp. des Vignes, 49360 Toutlemonde, France          -335   \n",
       "..                                                 ...           ...   \n",
       "445               74, route de la Reine 92100 Boulogne          -126   \n",
       "446  11 Boulevard du Colonel Fabien, 94200 Ivry-sur...          -113   \n",
       "447                11 Rue du Commandeur, Paris, France          -127   \n",
       "448  11 Boulevard du Colonel Fabien, 94200 Ivry-sur...           -53   \n",
       "449  SOMEDAT STVA, QUARTIER DU PARC DE L'ARTILLERIE...          -183   \n",
       "\n",
       "        Driver login mission Status Distance total Durée de la mission  \\\n",
       "0    test_3@test.com       FINISHED             86                  57   \n",
       "1    test_4@test.com       FINISHED             36                  80   \n",
       "2    test_1@test.com       FINISHED              2                  21   \n",
       "3    test_2@test.com       FINISHED             30                  58   \n",
       "4    test_5@test.com       FINISHED          1,558                 573   \n",
       "..               ...            ...            ...                 ...   \n",
       "445  test_2@test.com       FINISHED             22                  61   \n",
       "446  test_1@test.com       FINISHED             18                  42   \n",
       "447  test_3@test.com       FINISHED             22                  62   \n",
       "448  test_4@test.com       FINISHED             48                  74   \n",
       "449  test_2@test.com       FINISHED             58                  85   \n",
       "\n",
       "     Rating Client  \n",
       "0              NaN  \n",
       "1              NaN  \n",
       "2              NaN  \n",
       "3              4.0  \n",
       "4              2.0  \n",
       "..             ...  \n",
       "445            NaN  \n",
       "446            NaN  \n",
       "447            NaN  \n",
       "448            NaN  \n",
       "449            NaN  \n",
       "\n",
       "[450 rows x 13 columns]"
      ]
     },
     "execution_count": 3,
     "metadata": {},
     "output_type": "execute_result"
    }
   ],
   "source": [
    "# reading dataframe of missions\n",
    "\n",
    "missions = pandas.read_csv('Dataset/missions_study.csv')\n",
    "missions"
   ]
  },
  {
   "cell_type": "code",
   "execution_count": 5,
   "id": "9a096052",
   "metadata": {},
   "outputs": [
    {
     "data": {
      "text/html": [
       "<div>\n",
       "<style scoped>\n",
       "    .dataframe tbody tr th:only-of-type {\n",
       "        vertical-align: middle;\n",
       "    }\n",
       "\n",
       "    .dataframe tbody tr th {\n",
       "        vertical-align: top;\n",
       "    }\n",
       "\n",
       "    .dataframe thead th {\n",
       "        text-align: right;\n",
       "    }\n",
       "</style>\n",
       "<table border=\"1\" class=\"dataframe\">\n",
       "  <thead>\n",
       "    <tr style=\"text-align: right;\">\n",
       "      <th></th>\n",
       "      <th>Driver</th>\n",
       "      <th>Date d'activation</th>\n",
       "      <th>Number point Permis</th>\n",
       "      <th>Num permis</th>\n",
       "      <th>Uniforme ok</th>\n",
       "    </tr>\n",
       "  </thead>\n",
       "  <tbody>\n",
       "    <tr>\n",
       "      <th>0</th>\n",
       "      <td>test_1@test.com</td>\n",
       "      <td>05/03/2020</td>\n",
       "      <td>12</td>\n",
       "      <td>NaN</td>\n",
       "      <td>Yes</td>\n",
       "    </tr>\n",
       "    <tr>\n",
       "      <th>1</th>\n",
       "      <td>test_2@test.com</td>\n",
       "      <td>19/03/2021</td>\n",
       "      <td>12</td>\n",
       "      <td>1234.0</td>\n",
       "      <td>Yes</td>\n",
       "    </tr>\n",
       "    <tr>\n",
       "      <th>2</th>\n",
       "      <td>test_3@test.com</td>\n",
       "      <td>04/09/2019</td>\n",
       "      <td>7</td>\n",
       "      <td>NaN</td>\n",
       "      <td>Yes</td>\n",
       "    </tr>\n",
       "    <tr>\n",
       "      <th>3</th>\n",
       "      <td>test_4@test.com</td>\n",
       "      <td>06/05/2023</td>\n",
       "      <td>9</td>\n",
       "      <td>1234.0</td>\n",
       "      <td>Yes</td>\n",
       "    </tr>\n",
       "    <tr>\n",
       "      <th>4</th>\n",
       "      <td>test_5@test.com</td>\n",
       "      <td>07/05/2023</td>\n",
       "      <td>10</td>\n",
       "      <td>NaN</td>\n",
       "      <td>NaN</td>\n",
       "    </tr>\n",
       "  </tbody>\n",
       "</table>\n",
       "</div>"
      ],
      "text/plain": [
       "            Driver Date d'activation  Number point Permis  Num permis  \\\n",
       "0  test_1@test.com        05/03/2020                   12         NaN   \n",
       "1  test_2@test.com        19/03/2021                   12      1234.0   \n",
       "2  test_3@test.com        04/09/2019                    7         NaN   \n",
       "3  test_4@test.com        06/05/2023                    9      1234.0   \n",
       "4  test_5@test.com        07/05/2023                   10         NaN   \n",
       "\n",
       "  Uniforme ok  \n",
       "0         Yes  \n",
       "1         Yes  \n",
       "2         Yes  \n",
       "3         Yes  \n",
       "4         NaN  "
      ]
     },
     "execution_count": 5,
     "metadata": {},
     "output_type": "execute_result"
    }
   ],
   "source": [
    "# reading dataframe of drivers\n",
    "\n",
    "drivers = pandas.read_csv('Dataset/drivers.csv')\n",
    "drivers"
   ]
  },
  {
   "cell_type": "markdown",
   "id": "23603a9f",
   "metadata": {},
   "source": [
    "## Step 3: look at the data with info() and describe() for an overview"
   ]
  },
  {
   "cell_type": "code",
   "execution_count": 11,
   "id": "75df4ee3",
   "metadata": {},
   "outputs": [
    {
     "name": "stdout",
     "output_type": "stream",
     "text": [
      "<class 'pandas.core.frame.DataFrame'>\n",
      "RangeIndex: 450 entries, 0 to 449\n",
      "Data columns (total 13 columns):\n",
      " #   Column               Non-Null Count  Dtype  \n",
      "---  ------               --------------  -----  \n",
      " 0   Date                 450 non-null    object \n",
      " 1   Client               450 non-null    object \n",
      " 2   Mission Reference    450 non-null    object \n",
      " 3   Prix Client          449 non-null    float64\n",
      " 4   Prix Driver          447 non-null    float64\n",
      " 5   Adresse de départ    450 non-null    object \n",
      " 6   Adresse d'arrivée    450 non-null    object \n",
      " 7   Retard driver        450 non-null    object \n",
      " 8   Driver login         450 non-null    object \n",
      " 9   mission Status       450 non-null    object \n",
      " 10  Distance total       450 non-null    object \n",
      " 11  Durée de la mission  450 non-null    object \n",
      " 12  Rating Client        61 non-null     float64\n",
      "dtypes: float64(3), object(10)\n",
      "memory usage: 45.8+ KB\n"
     ]
    }
   ],
   "source": [
    "missions.info()"
   ]
  },
  {
   "cell_type": "code",
   "execution_count": 12,
   "id": "de512cc0",
   "metadata": {},
   "outputs": [
    {
     "data": {
      "text/html": [
       "<div>\n",
       "<style scoped>\n",
       "    .dataframe tbody tr th:only-of-type {\n",
       "        vertical-align: middle;\n",
       "    }\n",
       "\n",
       "    .dataframe tbody tr th {\n",
       "        vertical-align: top;\n",
       "    }\n",
       "\n",
       "    .dataframe thead th {\n",
       "        text-align: right;\n",
       "    }\n",
       "</style>\n",
       "<table border=\"1\" class=\"dataframe\">\n",
       "  <thead>\n",
       "    <tr style=\"text-align: right;\">\n",
       "      <th></th>\n",
       "      <th>Prix Client</th>\n",
       "      <th>Prix Driver</th>\n",
       "      <th>Rating Client</th>\n",
       "    </tr>\n",
       "  </thead>\n",
       "  <tbody>\n",
       "    <tr>\n",
       "      <th>count</th>\n",
       "      <td>449.000000</td>\n",
       "      <td>447.000000</td>\n",
       "      <td>61.000000</td>\n",
       "    </tr>\n",
       "    <tr>\n",
       "      <th>mean</th>\n",
       "      <td>133.201537</td>\n",
       "      <td>100.300917</td>\n",
       "      <td>3.213115</td>\n",
       "    </tr>\n",
       "    <tr>\n",
       "      <th>std</th>\n",
       "      <td>155.837753</td>\n",
       "      <td>129.074412</td>\n",
       "      <td>1.761768</td>\n",
       "    </tr>\n",
       "    <tr>\n",
       "      <th>min</th>\n",
       "      <td>0.000000</td>\n",
       "      <td>0.000000</td>\n",
       "      <td>0.000000</td>\n",
       "    </tr>\n",
       "    <tr>\n",
       "      <th>25%</th>\n",
       "      <td>30.000000</td>\n",
       "      <td>21.000000</td>\n",
       "      <td>2.000000</td>\n",
       "    </tr>\n",
       "    <tr>\n",
       "      <th>50%</th>\n",
       "      <td>58.000000</td>\n",
       "      <td>33.000000</td>\n",
       "      <td>3.000000</td>\n",
       "    </tr>\n",
       "    <tr>\n",
       "      <th>75%</th>\n",
       "      <td>175.000000</td>\n",
       "      <td>139.000000</td>\n",
       "      <td>5.000000</td>\n",
       "    </tr>\n",
       "    <tr>\n",
       "      <th>max</th>\n",
       "      <td>913.680000</td>\n",
       "      <td>598.000000</td>\n",
       "      <td>5.000000</td>\n",
       "    </tr>\n",
       "  </tbody>\n",
       "</table>\n",
       "</div>"
      ],
      "text/plain": [
       "       Prix Client  Prix Driver  Rating Client\n",
       "count   449.000000   447.000000      61.000000\n",
       "mean    133.201537   100.300917       3.213115\n",
       "std     155.837753   129.074412       1.761768\n",
       "min       0.000000     0.000000       0.000000\n",
       "25%      30.000000    21.000000       2.000000\n",
       "50%      58.000000    33.000000       3.000000\n",
       "75%     175.000000   139.000000       5.000000\n",
       "max     913.680000   598.000000       5.000000"
      ]
     },
     "execution_count": 12,
     "metadata": {},
     "output_type": "execute_result"
    }
   ],
   "source": [
    "missions.describe()"
   ]
  },
  {
   "cell_type": "code",
   "execution_count": 13,
   "id": "3618f3de",
   "metadata": {},
   "outputs": [
    {
     "name": "stdout",
     "output_type": "stream",
     "text": [
      "<class 'pandas.core.frame.DataFrame'>\n",
      "RangeIndex: 5 entries, 0 to 4\n",
      "Data columns (total 5 columns):\n",
      " #   Column               Non-Null Count  Dtype  \n",
      "---  ------               --------------  -----  \n",
      " 0   Driver               5 non-null      object \n",
      " 1   Date d'activation    5 non-null      object \n",
      " 2   Number point Permis  5 non-null      int64  \n",
      " 3   Num permis           2 non-null      float64\n",
      " 4   Uniforme ok          4 non-null      object \n",
      "dtypes: float64(1), int64(1), object(3)\n",
      "memory usage: 328.0+ bytes\n"
     ]
    }
   ],
   "source": [
    "drivers.info()"
   ]
  },
  {
   "cell_type": "code",
   "execution_count": 15,
   "id": "af748263",
   "metadata": {},
   "outputs": [
    {
     "data": {
      "text/html": [
       "<div>\n",
       "<style scoped>\n",
       "    .dataframe tbody tr th:only-of-type {\n",
       "        vertical-align: middle;\n",
       "    }\n",
       "\n",
       "    .dataframe tbody tr th {\n",
       "        vertical-align: top;\n",
       "    }\n",
       "\n",
       "    .dataframe thead th {\n",
       "        text-align: right;\n",
       "    }\n",
       "</style>\n",
       "<table border=\"1\" class=\"dataframe\">\n",
       "  <thead>\n",
       "    <tr style=\"text-align: right;\">\n",
       "      <th></th>\n",
       "      <th>Number point Permis</th>\n",
       "      <th>Num permis</th>\n",
       "    </tr>\n",
       "  </thead>\n",
       "  <tbody>\n",
       "    <tr>\n",
       "      <th>count</th>\n",
       "      <td>5.00000</td>\n",
       "      <td>2.0</td>\n",
       "    </tr>\n",
       "    <tr>\n",
       "      <th>mean</th>\n",
       "      <td>10.00000</td>\n",
       "      <td>1234.0</td>\n",
       "    </tr>\n",
       "    <tr>\n",
       "      <th>std</th>\n",
       "      <td>2.12132</td>\n",
       "      <td>0.0</td>\n",
       "    </tr>\n",
       "    <tr>\n",
       "      <th>min</th>\n",
       "      <td>7.00000</td>\n",
       "      <td>1234.0</td>\n",
       "    </tr>\n",
       "    <tr>\n",
       "      <th>25%</th>\n",
       "      <td>9.00000</td>\n",
       "      <td>1234.0</td>\n",
       "    </tr>\n",
       "    <tr>\n",
       "      <th>50%</th>\n",
       "      <td>10.00000</td>\n",
       "      <td>1234.0</td>\n",
       "    </tr>\n",
       "    <tr>\n",
       "      <th>75%</th>\n",
       "      <td>12.00000</td>\n",
       "      <td>1234.0</td>\n",
       "    </tr>\n",
       "    <tr>\n",
       "      <th>max</th>\n",
       "      <td>12.00000</td>\n",
       "      <td>1234.0</td>\n",
       "    </tr>\n",
       "  </tbody>\n",
       "</table>\n",
       "</div>"
      ],
      "text/plain": [
       "       Number point Permis  Num permis\n",
       "count              5.00000         2.0\n",
       "mean              10.00000      1234.0\n",
       "std                2.12132         0.0\n",
       "min                7.00000      1234.0\n",
       "25%                9.00000      1234.0\n",
       "50%               10.00000      1234.0\n",
       "75%               12.00000      1234.0\n",
       "max               12.00000      1234.0"
      ]
     },
     "execution_count": 15,
     "metadata": {},
     "output_type": "execute_result"
    }
   ],
   "source": [
    "drivers.describe()"
   ]
  },
  {
   "cell_type": "markdown",
   "id": "7cb37489",
   "metadata": {},
   "source": [
    "## Step 4: data cleaning"
   ]
  },
  {
   "cell_type": "code",
   "execution_count": 16,
   "id": "518fb72b",
   "metadata": {},
   "outputs": [
    {
     "data": {
      "text/plain": [
       "Date                     0\n",
       "Client                   0\n",
       "Mission Reference        0\n",
       "Prix Client              1\n",
       "Prix Driver              3\n",
       "Adresse de départ        0\n",
       "Adresse d'arrivée        0\n",
       "Retard driver            0\n",
       "Driver login             0\n",
       "mission Status           0\n",
       "Distance total           0\n",
       "Durée de la mission      0\n",
       "Rating Client          389\n",
       "dtype: int64"
      ]
     },
     "execution_count": 16,
     "metadata": {},
     "output_type": "execute_result"
    }
   ],
   "source": [
    "# Check for missing values\n",
    "missions.isna().sum()"
   ]
  },
  {
   "cell_type": "code",
   "execution_count": 17,
   "id": "f9173037",
   "metadata": {},
   "outputs": [
    {
     "data": {
      "text/plain": [
       "Driver                 0\n",
       "Date d'activation      0\n",
       "Number point Permis    0\n",
       "Num permis             3\n",
       "Uniforme ok            1\n",
       "dtype: int64"
      ]
     },
     "execution_count": 17,
     "metadata": {},
     "output_type": "execute_result"
    }
   ],
   "source": [
    "drivers.isna().sum()"
   ]
  },
  {
   "cell_type": "markdown",
   "id": "f5820258",
   "metadata": {},
   "source": [
    "We have missing values in our 2 dataframe but we will treat them differently\n",
    "\n",
    "- 'Prix Client -1' and 'Prix Driver -3' \n",
    "\n",
    "This data is very low in the case where our dataset contains 350 rows.\n",
    "We will remove them because they will not impact the results\n",
    "\n",
    "- 'Rating Client 389'\n",
    "\n",
    "Concerning the Rating Client, the rate of missing values is considerable. But these indicators are subjective and too low to be relevant. So we will completely remove the column"
   ]
  },
  {
   "cell_type": "code",
   "execution_count": 18,
   "id": "aac19119",
   "metadata": {},
   "outputs": [],
   "source": [
    "missions.dropna(subset=['Prix Client', 'Prix Driver'], inplace=True)"
   ]
  },
  {
   "cell_type": "code",
   "execution_count": 22,
   "id": "c4abc71c",
   "metadata": {},
   "outputs": [],
   "source": [
    "missions.drop('Rating Client', axis=1, inplace=True)"
   ]
  },
  {
   "cell_type": "markdown",
   "id": "0bf13018",
   "metadata": {},
   "source": [
    "# Variable driver attention au num de permis et uniforme absent !!!"
   ]
  },
  {
   "cell_type": "code",
   "execution_count": 25,
   "id": "92df39e3",
   "metadata": {},
   "outputs": [
    {
     "data": {
      "text/plain": [
       "0"
      ]
     },
     "execution_count": 25,
     "metadata": {},
     "output_type": "execute_result"
    }
   ],
   "source": [
    "# Check for duplicates\n",
    "missions.duplicated().sum()"
   ]
  },
  {
   "cell_type": "code",
   "execution_count": 26,
   "id": "ba43aaf7",
   "metadata": {},
   "outputs": [
    {
     "data": {
      "text/plain": [
       "0"
      ]
     },
     "execution_count": 26,
     "metadata": {},
     "output_type": "execute_result"
    }
   ],
   "source": [
    "drivers.duplicated().sum()"
   ]
  },
  {
   "cell_type": "markdown",
   "id": "39d8acbd",
   "metadata": {},
   "source": [
    "We dont have any duplicates in our two dataframe"
   ]
  },
  {
   "cell_type": "markdown",
   "id": "737f04d1",
   "metadata": {},
   "source": [
    "## Step 5: Driver productivity "
   ]
  },
  {
   "cell_type": "code",
   "execution_count": 30,
   "id": "9f054d47",
   "metadata": {},
   "outputs": [
    {
     "data": {
      "text/plain": [
       "Driver login\n",
       "test_1@test.com    106\n",
       "test_3@test.com     96\n",
       "test_2@test.com     87\n",
       "test_4@test.com     80\n",
       "test_5@test.com     77\n",
       "Name: count, dtype: int64"
      ]
     },
     "execution_count": 30,
     "metadata": {},
     "output_type": "execute_result"
    }
   ],
   "source": [
    "# Number of missions by driver\n",
    "nb_missions_by_driver = missions['Driver login'].value_counts()\n",
    "nb_missions_by_driver"
   ]
  },
  {
   "cell_type": "code",
   "execution_count": 37,
   "id": "9ce1e0b2",
   "metadata": {},
   "outputs": [
    {
     "name": "stdout",
     "output_type": "stream",
     "text": [
      "Driver login     Year\n",
      "test_1@test.com  2023    106\n",
      "test_2@test.com  2023     87\n",
      "test_3@test.com  2023     96\n",
      "test_4@test.com  2023     80\n",
      "test_5@test.com  2023     77\n",
      "dtype: int64\n"
     ]
    }
   ],
   "source": [
    "# Number of missions by driver by year\n",
    "missions['Date'] = pandas.to_datetime(missions['Date'])\n",
    "\n",
    "missions['Year'] = missions['Date'].dt.year\n",
    "\n",
    "missions_by_driver_by_year = missions.groupby(['Driver login', 'Year']).size()\n",
    "\n",
    "print(missions_by_driver_by_year)"
   ]
  },
  {
   "cell_type": "code",
   "execution_count": 34,
   "id": "074d0167",
   "metadata": {},
   "outputs": [
    {
     "name": "stdout",
     "output_type": "stream",
     "text": [
      "Driver login\n",
      "test_1@test.com    2329728721,181,09610362018224364230201,2988963...\n",
      "test_2@test.com    302428281,23636281019062886544301614129401,646...\n",
      "test_3@test.com    862,0663806668268967326201412349001,1314746181...\n",
      "test_4@test.com    364361,817721122342820204162499274390823412221...\n",
      "test_5@test.com    1,55814141,186320161,2212525618202428641816161...\n",
      "Name: Distance total, dtype: object\n"
     ]
    }
   ],
   "source": [
    "# Kilometer traveled by driver\n",
    "sum_kilometer_by_driver = missions.groupby('Driver login')['Distance total'].sum()\n",
    "print(sum_kilometer_by_driver)"
   ]
  },
  {
   "cell_type": "markdown",
   "id": "f7e3697b",
   "metadata": {},
   "source": [
    "Here we probably have a numeric problem\n",
    "\n",
    "I choice to ignore the data beacause they are inchoerente"
   ]
  },
  {
   "cell_type": "code",
   "execution_count": 41,
   "id": "e68a894d",
   "metadata": {},
   "outputs": [
    {
     "name": "stdout",
     "output_type": "stream",
     "text": [
      "Driver login\n",
      "test_1@test.com    14878.0\n",
      "test_2@test.com    11844.0\n",
      "test_3@test.com    17312.0\n",
      "test_4@test.com    14016.0\n",
      "test_5@test.com     8466.0\n",
      "Name: Distance total, dtype: float64\n"
     ]
    }
   ],
   "source": [
    "missions['Distance total'] = pandas.to_numeric(missions['Distance total'], errors='coerce')\n",
    "\n",
    "sum_kilometer_by_driver = missions.groupby('Driver login')['Distance total'].sum()\n",
    "\n",
    "print(sum_kilometer_by_driver)"
   ]
  },
  {
   "cell_type": "code",
   "execution_count": 226,
   "id": "d1ccb44a",
   "metadata": {},
   "outputs": [
    {
     "name": "stdout",
     "output_type": "stream",
     "text": [
      "Overall average distance covered per driver: 13303.2\n"
     ]
    }
   ],
   "source": [
    "# Overall average distance covered per driver\n",
    "mean_kilometer_by_driver = sum_kilometer_by_driver.mean()\n",
    "\n",
    "print(\"Overall average distance covered per driver:\", mean_kilometer_by_driver)"
   ]
  },
  {
   "cell_type": "code",
   "execution_count": 44,
   "id": "52fe4186",
   "metadata": {
    "scrolled": true
   },
   "outputs": [
    {
     "name": "stdout",
     "output_type": "stream",
     "text": [
      "float64\n"
     ]
    }
   ],
   "source": [
    "# Check the type of values\n",
    "print(missions['Distance total'].dtype)"
   ]
  },
  {
   "cell_type": "code",
   "execution_count": 78,
   "id": "66ea319f",
   "metadata": {},
   "outputs": [
    {
     "name": "stdout",
     "output_type": "stream",
     "text": [
      "0 days 00:00:00.000000248\n"
     ]
    }
   ],
   "source": [
    "# Mean time by mission\n",
    "\n",
    "missions['Durée de la mission'] = pandas.to_timedelta(missions['Durée de la mission'])\n",
    "\n",
    "time_mean_by_mission = missions['Durée de la mission'].mean()\n",
    "\n",
    "print(time_mean_by_mission)"
   ]
  },
  {
   "cell_type": "markdown",
   "id": "197eb99d",
   "metadata": {},
   "source": [
    "We can't use the specific function for calculate time beacause the columns values are not written with the time synthax."
   ]
  },
  {
   "cell_type": "code",
   "execution_count": 72,
   "id": "6aedee3b",
   "metadata": {},
   "outputs": [
    {
     "data": {
      "text/plain": [
       "Timedelta('0 days 00:00:00.000000248')"
      ]
     },
     "execution_count": 72,
     "metadata": {},
     "output_type": "execute_result"
    }
   ],
   "source": [
    "time_mean_by_mission_normal = missions['Durée de la mission'].mean()\n",
    "\n",
    "\n",
    "time_mean_by_mission_normal"
   ]
  },
  {
   "cell_type": "code",
   "execution_count": 83,
   "id": "1f4a6365",
   "metadata": {},
   "outputs": [
    {
     "name": "stdout",
     "output_type": "stream",
     "text": [
      "248.8878923766816\n"
     ]
    }
   ],
   "source": [
    "missions['Durée de la mission'] = missions['Durée de la mission'].astype(int)\n",
    "\n",
    "time_mean_by_mission = missions['Durée de la mission'].mean()\n",
    "\n",
    "print(time_mean_by_mission)"
   ]
  },
  {
   "cell_type": "markdown",
   "id": "66f9dfbb",
   "metadata": {},
   "source": [
    "Mean time per mission = 248 minutes or 4h 13min."
   ]
  },
  {
   "cell_type": "code",
   "execution_count": 86,
   "id": "0859fd89",
   "metadata": {},
   "outputs": [
    {
     "name": "stdout",
     "output_type": "stream",
     "text": [
      "Driver login\n",
      "test_1@test.com    241.047170\n",
      "test_2@test.com    205.298851\n",
      "test_3@test.com    224.510417\n",
      "test_4@test.com    210.937500\n",
      "test_5@test.com    378.753247\n",
      "Name: Durée de la mission, dtype: float64\n"
     ]
    }
   ],
   "source": [
    "# Mean time per driver\n",
    "\n",
    "missions['Durée de la mission'] = missions['Durée de la mission'].astype(int)\n",
    "\n",
    "mean_time_per_driver = missions.groupby('Driver login')['Durée de la mission'].mean()\n",
    "\n",
    "print(mean_time_per_driver)"
   ]
  },
  {
   "cell_type": "code",
   "execution_count": 88,
   "id": "8cd11971",
   "metadata": {},
   "outputs": [
    {
     "name": "stdout",
     "output_type": "stream",
     "text": [
      "Rate of missions finished : 97.53%\n"
     ]
    }
   ],
   "source": [
    "# Rate of mission finished\n",
    "\n",
    "finished_missions = missions[missions['mission Status'] == 'FINISHED'].shape[0]\n",
    "\n",
    "total_number_of_missions = missions.shape[0]\n",
    "\n",
    "rate_finished_missions = finished_missions / total_number_of_missions\n",
    "\n",
    "print(f\"Rate of missions finished : {rate_finished_missions:.2%}\")"
   ]
  },
  {
   "cell_type": "code",
   "execution_count": 94,
   "id": "d0b15fe7",
   "metadata": {},
   "outputs": [
    {
     "name": "stdout",
     "output_type": "stream",
     "text": [
      "Driver login\n",
      "test_1@test.com    0.990566\n",
      "test_2@test.com    0.977011\n",
      "test_3@test.com    0.968750\n",
      "test_4@test.com    0.962500\n",
      "test_5@test.com    0.974026\n",
      "dtype: float64\n"
     ]
    }
   ],
   "source": [
    "# Rate of mission finished by driver\n",
    "\n",
    "missions_finished_by_driver = missions[missions['mission Status'] == 'FINISHED'].groupby('Driver login').size()\n",
    "\n",
    "total_number_of_missions_by_driver = missions.groupby('Driver login').size()\n",
    "\n",
    "rate_number_of_missions_by_driver = missions_finished_by_driver / total_number_of_missions_by_driver\n",
    "\n",
    "print(rate_number_of_missions_by_driver)"
   ]
  },
  {
   "cell_type": "code",
   "execution_count": null,
   "id": "fb2a3260",
   "metadata": {},
   "outputs": [],
   "source": []
  },
  {
   "cell_type": "code",
   "execution_count": 117,
   "id": "e2e15951",
   "metadata": {},
   "outputs": [
    {
     "name": "stdout",
     "output_type": "stream",
     "text": [
      "Rate of late : -162.78 minutes\n",
      "-162.77777777777777\n"
     ]
    }
   ],
   "source": [
    "# Mean of delays\n",
    "\n",
    "negatives_delay = missions[missions['Retard driver'] < 0]\n",
    "\n",
    "rate_negatives_delay = negatives_delay['Retard driver'].mean()\n",
    "\n",
    "print(f\"Rate of late : {rate_negatives_delay:.2f} minutes\")\n",
    "print(rate_negatives_delay)"
   ]
  },
  {
   "cell_type": "markdown",
   "id": "1408f792",
   "metadata": {},
   "source": []
  },
  {
   "cell_type": "code",
   "execution_count": 165,
   "id": "e249e21e",
   "metadata": {},
   "outputs": [
    {
     "name": "stdout",
     "output_type": "stream",
     "text": [
      "Driver login\n",
      "test_1@test.com   -178.352941\n",
      "test_2@test.com   -146.056338\n",
      "test_3@test.com   -154.350000\n",
      "test_4@test.com   -182.538462\n",
      "test_5@test.com   -150.118644\n",
      "Name: Retard driver, dtype: float64\n"
     ]
    }
   ],
   "source": [
    "# Mean of delays by driver\n",
    "\n",
    "delay = missions[missions['Retard driver'] < 0]\n",
    "\n",
    "delay_rate_by_driver = delay.groupby('Driver login')['Retard driver'].mean()\n",
    "\n",
    "print(delay_rate_by_driver)"
   ]
  },
  {
   "cell_type": "markdown",
   "id": "85aa953f",
   "metadata": {},
   "source": [
    "## Step 6: Resource allocation"
   ]
  },
  {
   "cell_type": "code",
   "execution_count": 121,
   "id": "bacf8cf5",
   "metadata": {},
   "outputs": [
    {
     "name": "stdout",
     "output_type": "stream",
     "text": [
      "0      61.00\n",
      "1       7.00\n",
      "2       7.50\n",
      "3       2.50\n",
      "4      73.96\n",
      "       ...  \n",
      "445     9.00\n",
      "446     5.00\n",
      "447     5.00\n",
      "448    15.00\n",
      "449    25.00\n",
      "Name: gross margin, Length: 446, dtype: float64\n"
     ]
    }
   ],
   "source": [
    "# average gross margin\n",
    "\n",
    "missions['gross margin'] = missions['Prix Client'] - missions['Prix Driver']\n",
    "\n",
    "print(missions['gross margin'])"
   ]
  },
  {
   "cell_type": "code",
   "execution_count": 125,
   "id": "698b79e7",
   "metadata": {},
   "outputs": [
    {
     "name": "stdout",
     "output_type": "stream",
     "text": [
      "33.45959641255605\n"
     ]
    }
   ],
   "source": [
    "# Mean of gross margin\n",
    "\n",
    "mean_gross_margin = missions['gross margin'].mean()\n",
    "\n",
    "# Affichage de la moyenne de la marge brute\n",
    "print(mean_gross_margin)"
   ]
  },
  {
   "cell_type": "code",
   "execution_count": 133,
   "id": "3b47cce6",
   "metadata": {},
   "outputs": [
    {
     "name": "stdout",
     "output_type": "stream",
     "text": [
      "Driver login\n",
      "test_1@test.com    33.556038\n",
      "test_2@test.com    31.537701\n",
      "test_3@test.com    33.985521\n",
      "test_4@test.com    34.325000\n",
      "test_5@test.com    33.943506\n",
      "Name: gross margin, dtype: float64\n"
     ]
    }
   ],
   "source": [
    "# Mean of gross margin by driver\n",
    "\n",
    "mean_gross_margin_by_driver = missions.groupby('Driver login')['gross margin'].mean()\n",
    "\n",
    "print(mean_gross_margin_by_driver)"
   ]
  },
  {
   "cell_type": "code",
   "execution_count": 134,
   "id": "c6a21ee4",
   "metadata": {},
   "outputs": [
    {
     "name": "stdout",
     "output_type": "stream",
     "text": [
      "Driver login\n",
      "test_1@test.com    3556.94\n",
      "test_2@test.com    2743.78\n",
      "test_3@test.com    3262.61\n",
      "test_4@test.com    2746.00\n",
      "test_5@test.com    2613.65\n",
      "Name: gross margin, dtype: float64\n"
     ]
    }
   ],
   "source": [
    "# Gross margin by driver\n",
    "\n",
    "gross_margin_by_driver = missions.groupby('Driver login')['gross margin'].sum()\n",
    "\n",
    "# Affichage du total des bénéfices par chauffeur\n",
    "print(gross_margin_by_driver)"
   ]
  },
  {
   "cell_type": "code",
   "execution_count": null,
   "id": "5e0e287b",
   "metadata": {},
   "outputs": [],
   "source": [
    "###"
   ]
  },
  {
   "cell_type": "code",
   "execution_count": 151,
   "id": "b03022bd",
   "metadata": {},
   "outputs": [
    {
     "data": {
      "image/png": "[encoded data removed]",
      "text/plain": [
       "<Figure size 1000x600 with 1 Axes>"
      ]
     },
     "metadata": {},
     "output_type": "display_data"
    }
   ],
   "source": [
    "# Rate of missions finished by driver\n",
    "rate_number_of_missions_by_driver = missions.groupby('Driver login')['mission Status'].apply(lambda x: (x == 'FINISHED').mean())\n",
    "\n",
    "plt.figure(figsize=(10, 6))\n",
    "sns.barplot(x=rate_number_of_missions_by_driver.index, y=rate_number_of_missions_by_driver.values)\n",
    "plt.xticks(rotation=45)\n",
    "plt.xlabel('Drivers')\n",
    "plt.ylabel('Rate of missions finished')\n",
    "plt.title('Rate of missions finished by driver')\n",
    "plt.ylim(0.95, 1.0)\n",
    "plt.show()"
   ]
  },
  {
   "cell_type": "code",
   "execution_count": 172,
   "id": "4caa316c",
   "metadata": {},
   "outputs": [
    {
     "data": {
      "image/png": "[encoded data removed]",
      "text/plain": [
       "<Figure size 1000x600 with 1 Axes>"
      ]
     },
     "metadata": {},
     "output_type": "display_data"
    }
   ],
   "source": [
    "# Average delay rate per driver\n",
    "\n",
    "missions_late_graph = missions[(missions['Retard driver'] < 0) & (missions['Retard driver'] >= -500)]\n",
    "\n",
    "plt.figure(figsize=(10, 6))\n",
    "sns.scatterplot(x=missions_late_graph['Driver login'], y=missions_late_graph['Retard driver'])\n",
    "plt.xticks(rotation=45)\n",
    "plt.xlabel('Driver')\n",
    "plt.ylabel('Mean rate (minutes)')\n",
    "plt.title('Average lateness rate per driver')\n",
    "plt.show()"
   ]
  },
  {
   "cell_type": "code",
   "execution_count": 179,
   "id": "d0e6f55b",
   "metadata": {},
   "outputs": [
    {
     "data": {
      "image/png": "[encoded data removed]",
      "text/plain": [
       "<Figure size 1000x600 with 1 Axes>"
      ]
     },
     "metadata": {},
     "output_type": "display_data"
    }
   ],
   "source": [
    "missions_late_graph = missions[missions['Retard driver'] < 0]\n",
    "\n",
    "ordered_drivers = missions_late_graph.groupby('Driver login')['Retard driver'].mean().sort_values().index\n",
    "\n",
    "plt.figure(figsize=(10, 6))\n",
    "sns.barplot(x=missions_late_graph['Retard driver'], y=missions_late_graph['Driver login'], order=ordered_drivers)\n",
    "plt.xlabel('Mean delay (per minute)')\n",
    "plt.ylabel('Drivers')\n",
    "plt.title('Mean delay per driver')\n",
    "plt.show()"
   ]
  },
  {
   "cell_type": "code",
   "execution_count": 224,
   "id": "de72200b",
   "metadata": {
    "scrolled": true
   },
   "outputs": [
    {
     "data": {
      "image/png": "[encoded data removed]",
      "text/plain": [
       "<Figure size 1000x600 with 1 Axes>"
      ]
     },
     "metadata": {},
     "output_type": "display_data"
    }
   ],
   "source": [
    "plt.figure(figsize=(10, 6))\n",
    "sns.barplot(x=mean_gross_margin_by_driver.index, y=mean_gross_margin_by_driver.values, color='blue')\n",
    "plt.axhline(y=mean_gross_margin, color='red', linestyle='--', label='Average gross margin')\n",
    "plt.xticks(rotation=45)\n",
    "plt.xlabel('Driver')\n",
    "plt.ylabel('Average gross margin')\n",
    "plt.title('Average gross margin by Driver')\n",
    "plt.legend()\n",
    "plt.ylim(25)\n",
    "plt.show()"
   ]
  },
  {
   "cell_type": "code",
   "execution_count": 217,
   "id": "7d1e3147",
   "metadata": {
    "scrolled": true
   },
   "outputs": [
    {
     "data": {
      "image/png": "[encoded data removed]",
      "text/plain": [
       "<Figure size 800x800 with 1 Axes>"
      ]
     },
     "metadata": {},
     "output_type": "display_data"
    }
   ],
   "source": [
    "plt.figure(figsize=(8, 8))\n",
    "plt.pie(sum_kilometer_by_driver.values, labels=sum_kilometer_by_driver.index, autopct='%1.1f%%', colors=sns.color_palette('pastel'))\n",
    "plt.title('Breakdown of distances traveled by driver')\n",
    "plt.axis('equal')\n",
    "plt.show()"
   ]
  },
  {
   "cell_type": "code",
   "execution_count": null,
   "id": "5bc77fb8",
   "metadata": {},
   "outputs": [],
   "source": []
  },
  {
   "cell_type": "code",
   "execution_count": null,
   "id": "e293ba1b",
   "metadata": {},
   "outputs": [],
   "source": []
  }
 ],
 "metadata": {
  "kernelspec": {
   "display_name": "Python 3 (ipykernel)",
   "language": "python",
   "name": "python3"
  },
  "language_info": {
   "codemirror_mode": {
    "name": "ipython",
    "version": 3
   },
   "file_extension": ".py",
   "mimetype": "text/x-python",
   "name": "python",
   "nbconvert_exporter": "python",
   "pygments_lexer": "ipython3",
   "version": "3.11.1"
  }
 },
 "nbformat": 4,
 "nbformat_minor": 5
}
